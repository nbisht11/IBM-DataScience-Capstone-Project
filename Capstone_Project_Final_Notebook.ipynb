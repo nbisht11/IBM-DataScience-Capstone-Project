{
  "nbformat": 4,
  "nbformat_minor": 0,
  "metadata": {
    "colab": {
      "name": "Capstone Project Final Notebook.ipynb",
      "provenance": [],
      "collapsed_sections": []
    },
    "kernelspec": {
      "name": "python3",
      "display_name": "Python 3"
    }
  },
  "cells": [
    {
      "cell_type": "code",
      "metadata": {
        "id": "cDJ7R8NuDFZc",
        "colab_type": "code",
        "colab": {
          "base_uri": "https://localhost:8080/",
          "height": 34
        },
        "outputId": "f02880a9-571f-44be-bcf8-795a4acb3b98"
      },
      "source": [
        "import numpy as np # library to handle data in a vectorized manner\n",
        "import pandas as pd # library for data analsysis\n",
        "import json # library to handle JSON files\n",
        "from geopy.geocoders import Nominatim # convert an address into latitude and longitude values\n",
        "import requests # library to handle requests\n",
        "# Matplotlib and associated plotting modules\n",
        "import matplotlib.pyplot as plt\n",
        "# import k-means from clustering stage\n",
        "from sklearn.cluster import KMeans\n",
        "import folium # map rendering library\n",
        "print('Libraries imported.')"
      ],
      "execution_count": 1,
      "outputs": [
        {
          "output_type": "stream",
          "text": [
            "Libraries imported.\n"
          ],
          "name": "stdout"
        }
      ]
    },
    {
      "cell_type": "code",
      "metadata": {
        "id": "pZZt8XjjyLlf",
        "colab_type": "code",
        "colab": {}
      },
      "source": [
        "delhi_neigh=\"Adarsh Nagar,Ashok Vihar,Begum Pur,Karala,Model Town,Narela,Pitam Pura,Rohini Sub City,Shalimar Bagh,Civil Lines,Gulabi Bagh,Kamla Nagar,Kashmiri Gate,Kotwali,Mori Gate; Delhi,Sadar Bazaar,Sarai Rohilla,Shakti Nagar,Shastri Nagar,Tis Hazari,Timarpur,Wazirabad,Dilshad Garden,Naveen Shahdara,New Usmanpur,Shahdara,Shastri Park,Yamuna Vihar,Chandni Chowk,Daryaganj,Jhandewalan,Karol Bagh,Kishanganj,Paharganj,Rajender Nagar,New Delhi,Barakhamba Road,Chanakyapuri,Connaught Place,Gole Market,INA Colony,Laxmibai Nagar,Pragati Maidan,East Vinod Nagar,Jhilmil Colony,Laxmi Nagar,Mayur Vihar,Pandav Nagar,Preet Vihar,Anand Vihar,Vasundhara Enclave,Vishwas Nagar,Vivek Vihar,Alaknanda,Chittaranjan Park,Defence Colony,East of Kailash,Govindpuri,Greater Kailash,Green Park,Gulmohar Park,Hauz Khas,Hauz Khas VillageJangpura,Jor Bagh,Kalkaji,Khanpur,Lajpat Nagar,Lodi Colony,Malviya Nagar,Mehrauli,Neeti Bagh,Nehru Place,Netaji Nagar,New Friends Colony,Nizamuddin West,Okhla,Safdarjung Enclave,Sainik Farm,Saket,Sangam Vihar,Sarita Vihar,Sarojini Nagar,Sarvodaya Enclave,Siri Fort,South Extension,Sriniwaspuri,Sundar Nagar,Tughlaqabad,Badarpur,Dabri,Dwarka Sub City,Delhi Cantonment,Dhaula Kuan,Inderpuri,Mahipalpur,Moti Bagh,Munirka,Najafgarh,Naraina,Palam,Rama Krishna Puram,Sagar Pur,Vasant Kunj,Vasant Vihar,Ashok Nagar,Bali Nagar,Fateh Nagar,Kirti Nagar,Moti Nagar,Paschim Vihar,Patel Nagar,Punjabi Bagh,Rajouri Garden,Tihar Village,Tilak Nagar,Vikas Nagar,Vikaspuri\"\n",
        "place=[substring.strip() for substring in delhi_neigh.split(',')]\n",
        "st=\", Delhi\"\n",
        "place=[s + st for s in place]\n"
      ],
      "execution_count": 2,
      "outputs": []
    },
    {
      "cell_type": "code",
      "metadata": {
        "id": "05LJhE7WDnRK",
        "colab_type": "code",
        "colab": {
          "base_uri": "https://localhost:8080/",
          "height": 34
        },
        "outputId": "e4d56128-608b-40f0-e1a5-04e2d3858eef"
      },
      "source": [
        "latitude=[]\n",
        "longitude=[]\n",
        "geolocator = Nominatim(user_agent=\"Coursera\")\n",
        "for address in place:\n",
        "  location = geolocator.geocode(address)\n",
        "  if(location==None):\n",
        "    place.remove(address)\n",
        "    continue\n",
        "  else:\n",
        "    latitude.append(location.latitude)\n",
        "    longitude.append(location.longitude)\n",
        "\n",
        "print(len(place),len(latitude),len(longitude))"
      ],
      "execution_count": 4,
      "outputs": [
        {
          "output_type": "stream",
          "text": [
            "111 111 111\n"
          ],
          "name": "stdout"
        }
      ]
    },
    {
      "cell_type": "code",
      "metadata": {
        "id": "xvqATyh2Du1v",
        "colab_type": "code",
        "colab": {
          "base_uri": "https://localhost:8080/",
          "height": 359
        },
        "outputId": "60972e54-ab76-4cd3-d8e7-870a27373950"
      },
      "source": [
        "dict_={\"Neighborhood\":place,\"Latitude\":latitude,\"Longitude\":longitude}\n",
        "delhi_neighborhood=pd.DataFrame(dict_)\n",
        "delhi_neighborhood.head(10)"
      ],
      "execution_count": 5,
      "outputs": [
        {
          "output_type": "execute_result",
          "data": {
            "text/html": [
              "<div>\n",
              "<style scoped>\n",
              "    .dataframe tbody tr th:only-of-type {\n",
              "        vertical-align: middle;\n",
              "    }\n",
              "\n",
              "    .dataframe tbody tr th {\n",
              "        vertical-align: top;\n",
              "    }\n",
              "\n",
              "    .dataframe thead th {\n",
              "        text-align: right;\n",
              "    }\n",
              "</style>\n",
              "<table border=\"1\" class=\"dataframe\">\n",
              "  <thead>\n",
              "    <tr style=\"text-align: right;\">\n",
              "      <th></th>\n",
              "      <th>Neighborhood</th>\n",
              "      <th>Latitude</th>\n",
              "      <th>Longitude</th>\n",
              "    </tr>\n",
              "  </thead>\n",
              "  <tbody>\n",
              "    <tr>\n",
              "      <th>0</th>\n",
              "      <td>Adarsh Nagar, Delhi</td>\n",
              "      <td>28.614193</td>\n",
              "      <td>77.071541</td>\n",
              "    </tr>\n",
              "    <tr>\n",
              "      <th>1</th>\n",
              "      <td>Ashok Vihar, Delhi</td>\n",
              "      <td>28.699453</td>\n",
              "      <td>77.184826</td>\n",
              "    </tr>\n",
              "    <tr>\n",
              "      <th>2</th>\n",
              "      <td>Karala, Delhi</td>\n",
              "      <td>28.735140</td>\n",
              "      <td>77.032511</td>\n",
              "    </tr>\n",
              "    <tr>\n",
              "      <th>3</th>\n",
              "      <td>Model Town, Delhi</td>\n",
              "      <td>28.702714</td>\n",
              "      <td>77.193991</td>\n",
              "    </tr>\n",
              "    <tr>\n",
              "      <th>4</th>\n",
              "      <td>Narela, Delhi</td>\n",
              "      <td>28.842610</td>\n",
              "      <td>77.091835</td>\n",
              "    </tr>\n",
              "    <tr>\n",
              "      <th>5</th>\n",
              "      <td>Pitam Pura, Delhi</td>\n",
              "      <td>28.703268</td>\n",
              "      <td>77.132250</td>\n",
              "    </tr>\n",
              "    <tr>\n",
              "      <th>6</th>\n",
              "      <td>Shalimar Bagh, Delhi</td>\n",
              "      <td>28.717453</td>\n",
              "      <td>77.150867</td>\n",
              "    </tr>\n",
              "    <tr>\n",
              "      <th>7</th>\n",
              "      <td>Civil Lines, Delhi</td>\n",
              "      <td>28.676851</td>\n",
              "      <td>77.225030</td>\n",
              "    </tr>\n",
              "    <tr>\n",
              "      <th>8</th>\n",
              "      <td>Gulabi Bagh, Delhi</td>\n",
              "      <td>28.669649</td>\n",
              "      <td>77.194726</td>\n",
              "    </tr>\n",
              "    <tr>\n",
              "      <th>9</th>\n",
              "      <td>Kamla Nagar, Delhi</td>\n",
              "      <td>28.680344</td>\n",
              "      <td>77.202129</td>\n",
              "    </tr>\n",
              "  </tbody>\n",
              "</table>\n",
              "</div>"
            ],
            "text/plain": [
              "           Neighborhood   Latitude  Longitude\n",
              "0   Adarsh Nagar, Delhi  28.614193  77.071541\n",
              "1    Ashok Vihar, Delhi  28.699453  77.184826\n",
              "2         Karala, Delhi  28.735140  77.032511\n",
              "3     Model Town, Delhi  28.702714  77.193991\n",
              "4         Narela, Delhi  28.842610  77.091835\n",
              "5     Pitam Pura, Delhi  28.703268  77.132250\n",
              "6  Shalimar Bagh, Delhi  28.717453  77.150867\n",
              "7    Civil Lines, Delhi  28.676851  77.225030\n",
              "8    Gulabi Bagh, Delhi  28.669649  77.194726\n",
              "9    Kamla Nagar, Delhi  28.680344  77.202129"
            ]
          },
          "metadata": {
            "tags": []
          },
          "execution_count": 5
        }
      ]
    },
    {
      "cell_type": "code",
      "metadata": {
        "id": "GVAXjSsmEPB5",
        "colab_type": "code",
        "colab": {}
      },
      "source": [
        "key=\"86150eeacd6e760db3f518f5ad8251b3\"\n",
        "cols=[\"id\",\"name\",\"locality\",\"cuisines\",\"votes\"]\n",
        "df=pd.DataFrame(columns=cols)"
      ],
      "execution_count": 6,
      "outputs": []
    },
    {
      "cell_type": "code",
      "metadata": {
        "id": "AG5C0JnpEagJ",
        "colab_type": "code",
        "colab": {
          "base_uri": "https://localhost:8080/",
          "height": 136
        },
        "outputId": "c57775b4-05d0-4f40-d6d6-86b84a319e23"
      },
      "source": [
        "for lat,lon in zip(delhi_neighborhood['Latitude'],delhi_neighborhood['Longitude']):\n",
        "  base=\"https://developers.zomato.com/api/v2.1/geocode?lat={}&lon={}\".format(lat,lon)\n",
        "  header={\"Accept\": \"application/json\", \"user-key\": key}\n",
        "  res=requests.get(base,headers=header)\n",
        "  result=res.content.decode(\"utf-8\")\n",
        "  result=json.loads(result)\n",
        "  tt=result[\"nearby_restaurants\"]\n",
        "  df1=[]\n",
        "  for i in range(len(tt)):\n",
        "    test=tt[i]\n",
        "    df1.append([test[\"restaurant\"][\"id\"],\n",
        "                test[\"restaurant\"][\"name\"],\n",
        "                test[\"restaurant\"][\"location\"][\"locality\"],\n",
        "                test[\"restaurant\"][\"cuisines\"],\n",
        "                test[\"restaurant\"][\"user_rating\"][\"votes\"]]\n",
        "              )\n",
        "    df=df.append(pd.DataFrame(df1,columns=cols))\n",
        "\n",
        "df=df.drop_duplicates(subset=None,keep='first')\n",
        "df.reset_index(inplace=True)\n",
        "df.id=df.id.astype('int64')\n",
        "df.votes=df.votes.astype('int64')\n",
        "df.dtypes"
      ],
      "execution_count": 7,
      "outputs": [
        {
          "output_type": "execute_result",
          "data": {
            "text/plain": [
              "index        int64\n",
              "id           int64\n",
              "name        object\n",
              "locality    object\n",
              "cuisines    object\n",
              "votes        int64\n",
              "dtype: object"
            ]
          },
          "metadata": {
            "tags": []
          },
          "execution_count": 7
        }
      ]
    },
    {
      "cell_type": "code",
      "metadata": {
        "id": "CtgighILs1Yq",
        "colab_type": "code",
        "colab": {
          "base_uri": "https://localhost:8080/",
          "height": 359
        },
        "outputId": "d6d46cd3-00d5-421a-e9b3-62a258b1da4b"
      },
      "source": [
        "df.head(10)"
      ],
      "execution_count": 8,
      "outputs": [
        {
          "output_type": "execute_result",
          "data": {
            "text/html": [
              "<div>\n",
              "<style scoped>\n",
              "    .dataframe tbody tr th:only-of-type {\n",
              "        vertical-align: middle;\n",
              "    }\n",
              "\n",
              "    .dataframe tbody tr th {\n",
              "        vertical-align: top;\n",
              "    }\n",
              "\n",
              "    .dataframe thead th {\n",
              "        text-align: right;\n",
              "    }\n",
              "</style>\n",
              "<table border=\"1\" class=\"dataframe\">\n",
              "  <thead>\n",
              "    <tr style=\"text-align: right;\">\n",
              "      <th></th>\n",
              "      <th>index</th>\n",
              "      <th>id</th>\n",
              "      <th>name</th>\n",
              "      <th>locality</th>\n",
              "      <th>cuisines</th>\n",
              "      <th>votes</th>\n",
              "    </tr>\n",
              "  </thead>\n",
              "  <tbody>\n",
              "    <tr>\n",
              "      <th>0</th>\n",
              "      <td>0</td>\n",
              "      <td>18810973</td>\n",
              "      <td>Delhi Darbar Biryani Point</td>\n",
              "      <td>Uttam Nagar</td>\n",
              "      <td>Biryani, Mughlai</td>\n",
              "      <td>25873</td>\n",
              "    </tr>\n",
              "    <tr>\n",
              "      <th>1</th>\n",
              "      <td>1</td>\n",
              "      <td>18358654</td>\n",
              "      <td>Scoops</td>\n",
              "      <td>Uttam Nagar</td>\n",
              "      <td>Beverages, Fast Food, Desserts</td>\n",
              "      <td>13699</td>\n",
              "    </tr>\n",
              "    <tr>\n",
              "      <th>2</th>\n",
              "      <td>2</td>\n",
              "      <td>301907</td>\n",
              "      <td>Sargam Sweets</td>\n",
              "      <td>Uttam Nagar</td>\n",
              "      <td>Mithai, Chinese, South Indian, North Indian, B...</td>\n",
              "      <td>13144</td>\n",
              "    </tr>\n",
              "    <tr>\n",
              "      <th>3</th>\n",
              "      <td>3</td>\n",
              "      <td>5469</td>\n",
              "      <td>Kali Ghata</td>\n",
              "      <td>Uttam Nagar</td>\n",
              "      <td>North Indian, South Indian, Chinese, Fast Food...</td>\n",
              "      <td>1418</td>\n",
              "    </tr>\n",
              "    <tr>\n",
              "      <th>4</th>\n",
              "      <td>4</td>\n",
              "      <td>18530863</td>\n",
              "      <td>Anand Vaishno Dhaba</td>\n",
              "      <td>Uttam Nagar</td>\n",
              "      <td>North Indian</td>\n",
              "      <td>7503</td>\n",
              "    </tr>\n",
              "    <tr>\n",
              "      <th>5</th>\n",
              "      <td>5</td>\n",
              "      <td>5470</td>\n",
              "      <td>Lala Da Shudh Vaishno Dhaba</td>\n",
              "      <td>Uttam Nagar</td>\n",
              "      <td>North Indian</td>\n",
              "      <td>17801</td>\n",
              "    </tr>\n",
              "    <tr>\n",
              "      <th>6</th>\n",
              "      <td>6</td>\n",
              "      <td>18637444</td>\n",
              "      <td>Shakil Chicken Corner</td>\n",
              "      <td>Uttam Nagar</td>\n",
              "      <td>North Indian</td>\n",
              "      <td>11794</td>\n",
              "    </tr>\n",
              "    <tr>\n",
              "      <th>7</th>\n",
              "      <td>7</td>\n",
              "      <td>18698057</td>\n",
              "      <td>Rolls Mania</td>\n",
              "      <td>Uttam Nagar</td>\n",
              "      <td>Rolls, Fast Food, Beverages</td>\n",
              "      <td>7490</td>\n",
              "    </tr>\n",
              "    <tr>\n",
              "      <th>8</th>\n",
              "      <td>8</td>\n",
              "      <td>312073</td>\n",
              "      <td>Domino's Pizza</td>\n",
              "      <td>Uttam Nagar</td>\n",
              "      <td>Pizza, Fast Food</td>\n",
              "      <td>7138</td>\n",
              "    </tr>\n",
              "    <tr>\n",
              "      <th>9</th>\n",
              "      <td>0</td>\n",
              "      <td>307406</td>\n",
              "      <td>Pandit Ji Parantha Hut</td>\n",
              "      <td>Ashok Vihar Phase 2</td>\n",
              "      <td>North Indian</td>\n",
              "      <td>55180</td>\n",
              "    </tr>\n",
              "  </tbody>\n",
              "</table>\n",
              "</div>"
            ],
            "text/plain": [
              "   index        id  ...                                           cuisines  votes\n",
              "0      0  18810973  ...                                   Biryani, Mughlai  25873\n",
              "1      1  18358654  ...                     Beverages, Fast Food, Desserts  13699\n",
              "2      2    301907  ...  Mithai, Chinese, South Indian, North Indian, B...  13144\n",
              "3      3      5469  ...  North Indian, South Indian, Chinese, Fast Food...   1418\n",
              "4      4  18530863  ...                                       North Indian   7503\n",
              "5      5      5470  ...                                       North Indian  17801\n",
              "6      6  18637444  ...                                       North Indian  11794\n",
              "7      7  18698057  ...                        Rolls, Fast Food, Beverages   7490\n",
              "8      8    312073  ...                                   Pizza, Fast Food   7138\n",
              "9      0    307406  ...                                       North Indian  55180\n",
              "\n",
              "[10 rows x 6 columns]"
            ]
          },
          "metadata": {
            "tags": []
          },
          "execution_count": 8
        }
      ]
    },
    {
      "cell_type": "markdown",
      "metadata": {
        "id": "nEqxqs9nD3QU",
        "colab_type": "text"
      },
      "source": [
        "# Dividing the Votes\n",
        "The following code is written to divide the votes evenly into cuisines"
      ]
    },
    {
      "cell_type": "code",
      "metadata": {
        "id": "dvRtuiNCxbI2",
        "colab_type": "code",
        "colab": {
          "base_uri": "https://localhost:8080/",
          "height": 204
        },
        "outputId": "bd80983b-8e35-42e0-d7ec-7840a1845873"
      },
      "source": [
        "a=df['cuisines'].str.split(',')\n",
        "b=[len(c) for c in a]\n",
        "a=pd.Series(b)\n",
        "df=df.assign(cuisines=df['cuisines'].str.split(',')).explode('cuisines')\n",
        "df.cuisines=df.cuisines.str.lstrip()\n",
        "df.votes=df.votes/a\n",
        "df.votes=df.votes.astype('int64')\n",
        "df.head()"
      ],
      "execution_count": 9,
      "outputs": [
        {
          "output_type": "execute_result",
          "data": {
            "text/html": [
              "<div>\n",
              "<style scoped>\n",
              "    .dataframe tbody tr th:only-of-type {\n",
              "        vertical-align: middle;\n",
              "    }\n",
              "\n",
              "    .dataframe tbody tr th {\n",
              "        vertical-align: top;\n",
              "    }\n",
              "\n",
              "    .dataframe thead th {\n",
              "        text-align: right;\n",
              "    }\n",
              "</style>\n",
              "<table border=\"1\" class=\"dataframe\">\n",
              "  <thead>\n",
              "    <tr style=\"text-align: right;\">\n",
              "      <th></th>\n",
              "      <th>index</th>\n",
              "      <th>id</th>\n",
              "      <th>name</th>\n",
              "      <th>locality</th>\n",
              "      <th>cuisines</th>\n",
              "      <th>votes</th>\n",
              "    </tr>\n",
              "  </thead>\n",
              "  <tbody>\n",
              "    <tr>\n",
              "      <th>0</th>\n",
              "      <td>0</td>\n",
              "      <td>18810973</td>\n",
              "      <td>Delhi Darbar Biryani Point</td>\n",
              "      <td>Uttam Nagar</td>\n",
              "      <td>Biryani</td>\n",
              "      <td>12936</td>\n",
              "    </tr>\n",
              "    <tr>\n",
              "      <th>0</th>\n",
              "      <td>0</td>\n",
              "      <td>18810973</td>\n",
              "      <td>Delhi Darbar Biryani Point</td>\n",
              "      <td>Uttam Nagar</td>\n",
              "      <td>Mughlai</td>\n",
              "      <td>12936</td>\n",
              "    </tr>\n",
              "    <tr>\n",
              "      <th>1</th>\n",
              "      <td>1</td>\n",
              "      <td>18358654</td>\n",
              "      <td>Scoops</td>\n",
              "      <td>Uttam Nagar</td>\n",
              "      <td>Beverages</td>\n",
              "      <td>4566</td>\n",
              "    </tr>\n",
              "    <tr>\n",
              "      <th>1</th>\n",
              "      <td>1</td>\n",
              "      <td>18358654</td>\n",
              "      <td>Scoops</td>\n",
              "      <td>Uttam Nagar</td>\n",
              "      <td>Fast Food</td>\n",
              "      <td>4566</td>\n",
              "    </tr>\n",
              "    <tr>\n",
              "      <th>1</th>\n",
              "      <td>1</td>\n",
              "      <td>18358654</td>\n",
              "      <td>Scoops</td>\n",
              "      <td>Uttam Nagar</td>\n",
              "      <td>Desserts</td>\n",
              "      <td>4566</td>\n",
              "    </tr>\n",
              "  </tbody>\n",
              "</table>\n",
              "</div>"
            ],
            "text/plain": [
              "   index        id                        name     locality   cuisines  votes\n",
              "0      0  18810973  Delhi Darbar Biryani Point  Uttam Nagar    Biryani  12936\n",
              "0      0  18810973  Delhi Darbar Biryani Point  Uttam Nagar    Mughlai  12936\n",
              "1      1  18358654                      Scoops  Uttam Nagar  Beverages   4566\n",
              "1      1  18358654                      Scoops  Uttam Nagar  Fast Food   4566\n",
              "1      1  18358654                      Scoops  Uttam Nagar   Desserts   4566"
            ]
          },
          "metadata": {
            "tags": []
          },
          "execution_count": 9
        }
      ]
    },
    {
      "cell_type": "code",
      "metadata": {
        "id": "NTdBV4RbsGi5",
        "colab_type": "code",
        "colab": {
          "base_uri": "https://localhost:8080/",
          "height": 51
        },
        "outputId": "06ae7f40-b640-42a0-94fe-e72cc82beaad"
      },
      "source": [
        "print(df.cuisines.nunique())\n",
        "print(df.locality.nunique())"
      ],
      "execution_count": 10,
      "outputs": [
        {
          "output_type": "stream",
          "text": [
            "67\n",
            "158\n"
          ],
          "name": "stdout"
        }
      ]
    },
    {
      "cell_type": "code",
      "metadata": {
        "id": "xcHfV57IGGa0",
        "colab_type": "code",
        "colab": {
          "base_uri": "https://localhost:8080/",
          "height": 204
        },
        "outputId": "4d9d268b-15f3-48a0-b955-5744555b3d46"
      },
      "source": [
        "df.insert(3,\"No Of Res\",1)\n",
        "df.head()"
      ],
      "execution_count": 11,
      "outputs": [
        {
          "output_type": "execute_result",
          "data": {
            "text/html": [
              "<div>\n",
              "<style scoped>\n",
              "    .dataframe tbody tr th:only-of-type {\n",
              "        vertical-align: middle;\n",
              "    }\n",
              "\n",
              "    .dataframe tbody tr th {\n",
              "        vertical-align: top;\n",
              "    }\n",
              "\n",
              "    .dataframe thead th {\n",
              "        text-align: right;\n",
              "    }\n",
              "</style>\n",
              "<table border=\"1\" class=\"dataframe\">\n",
              "  <thead>\n",
              "    <tr style=\"text-align: right;\">\n",
              "      <th></th>\n",
              "      <th>index</th>\n",
              "      <th>id</th>\n",
              "      <th>name</th>\n",
              "      <th>No Of Res</th>\n",
              "      <th>locality</th>\n",
              "      <th>cuisines</th>\n",
              "      <th>votes</th>\n",
              "    </tr>\n",
              "  </thead>\n",
              "  <tbody>\n",
              "    <tr>\n",
              "      <th>0</th>\n",
              "      <td>0</td>\n",
              "      <td>18810973</td>\n",
              "      <td>Delhi Darbar Biryani Point</td>\n",
              "      <td>1</td>\n",
              "      <td>Uttam Nagar</td>\n",
              "      <td>Biryani</td>\n",
              "      <td>12936</td>\n",
              "    </tr>\n",
              "    <tr>\n",
              "      <th>0</th>\n",
              "      <td>0</td>\n",
              "      <td>18810973</td>\n",
              "      <td>Delhi Darbar Biryani Point</td>\n",
              "      <td>1</td>\n",
              "      <td>Uttam Nagar</td>\n",
              "      <td>Mughlai</td>\n",
              "      <td>12936</td>\n",
              "    </tr>\n",
              "    <tr>\n",
              "      <th>1</th>\n",
              "      <td>1</td>\n",
              "      <td>18358654</td>\n",
              "      <td>Scoops</td>\n",
              "      <td>1</td>\n",
              "      <td>Uttam Nagar</td>\n",
              "      <td>Beverages</td>\n",
              "      <td>4566</td>\n",
              "    </tr>\n",
              "    <tr>\n",
              "      <th>1</th>\n",
              "      <td>1</td>\n",
              "      <td>18358654</td>\n",
              "      <td>Scoops</td>\n",
              "      <td>1</td>\n",
              "      <td>Uttam Nagar</td>\n",
              "      <td>Fast Food</td>\n",
              "      <td>4566</td>\n",
              "    </tr>\n",
              "    <tr>\n",
              "      <th>1</th>\n",
              "      <td>1</td>\n",
              "      <td>18358654</td>\n",
              "      <td>Scoops</td>\n",
              "      <td>1</td>\n",
              "      <td>Uttam Nagar</td>\n",
              "      <td>Desserts</td>\n",
              "      <td>4566</td>\n",
              "    </tr>\n",
              "  </tbody>\n",
              "</table>\n",
              "</div>"
            ],
            "text/plain": [
              "   index        id                        name  ...     locality   cuisines  votes\n",
              "0      0  18810973  Delhi Darbar Biryani Point  ...  Uttam Nagar    Biryani  12936\n",
              "0      0  18810973  Delhi Darbar Biryani Point  ...  Uttam Nagar    Mughlai  12936\n",
              "1      1  18358654                      Scoops  ...  Uttam Nagar  Beverages   4566\n",
              "1      1  18358654                      Scoops  ...  Uttam Nagar  Fast Food   4566\n",
              "1      1  18358654                      Scoops  ...  Uttam Nagar   Desserts   4566\n",
              "\n",
              "[5 rows x 7 columns]"
            ]
          },
          "metadata": {
            "tags": []
          },
          "execution_count": 11
        }
      ]
    },
    {
      "cell_type": "code",
      "metadata": {
        "id": "KzO5zEQQGIgr",
        "colab_type": "code",
        "colab": {
          "base_uri": "https://localhost:8080/",
          "height": 204
        },
        "outputId": "3f644087-85d3-4482-fb18-ba03e5405a41"
      },
      "source": [
        "cols=[\"locality\",\"cuisines\",\"No Of Res\",\"votes\"]\n",
        "df1=df[cols]\n",
        "df1.head()"
      ],
      "execution_count": 12,
      "outputs": [
        {
          "output_type": "execute_result",
          "data": {
            "text/html": [
              "<div>\n",
              "<style scoped>\n",
              "    .dataframe tbody tr th:only-of-type {\n",
              "        vertical-align: middle;\n",
              "    }\n",
              "\n",
              "    .dataframe tbody tr th {\n",
              "        vertical-align: top;\n",
              "    }\n",
              "\n",
              "    .dataframe thead th {\n",
              "        text-align: right;\n",
              "    }\n",
              "</style>\n",
              "<table border=\"1\" class=\"dataframe\">\n",
              "  <thead>\n",
              "    <tr style=\"text-align: right;\">\n",
              "      <th></th>\n",
              "      <th>locality</th>\n",
              "      <th>cuisines</th>\n",
              "      <th>No Of Res</th>\n",
              "      <th>votes</th>\n",
              "    </tr>\n",
              "  </thead>\n",
              "  <tbody>\n",
              "    <tr>\n",
              "      <th>0</th>\n",
              "      <td>Uttam Nagar</td>\n",
              "      <td>Biryani</td>\n",
              "      <td>1</td>\n",
              "      <td>12936</td>\n",
              "    </tr>\n",
              "    <tr>\n",
              "      <th>0</th>\n",
              "      <td>Uttam Nagar</td>\n",
              "      <td>Mughlai</td>\n",
              "      <td>1</td>\n",
              "      <td>12936</td>\n",
              "    </tr>\n",
              "    <tr>\n",
              "      <th>1</th>\n",
              "      <td>Uttam Nagar</td>\n",
              "      <td>Beverages</td>\n",
              "      <td>1</td>\n",
              "      <td>4566</td>\n",
              "    </tr>\n",
              "    <tr>\n",
              "      <th>1</th>\n",
              "      <td>Uttam Nagar</td>\n",
              "      <td>Fast Food</td>\n",
              "      <td>1</td>\n",
              "      <td>4566</td>\n",
              "    </tr>\n",
              "    <tr>\n",
              "      <th>1</th>\n",
              "      <td>Uttam Nagar</td>\n",
              "      <td>Desserts</td>\n",
              "      <td>1</td>\n",
              "      <td>4566</td>\n",
              "    </tr>\n",
              "  </tbody>\n",
              "</table>\n",
              "</div>"
            ],
            "text/plain": [
              "      locality   cuisines  No Of Res  votes\n",
              "0  Uttam Nagar    Biryani          1  12936\n",
              "0  Uttam Nagar    Mughlai          1  12936\n",
              "1  Uttam Nagar  Beverages          1   4566\n",
              "1  Uttam Nagar  Fast Food          1   4566\n",
              "1  Uttam Nagar   Desserts          1   4566"
            ]
          },
          "metadata": {
            "tags": []
          },
          "execution_count": 12
        }
      ]
    },
    {
      "cell_type": "code",
      "metadata": {
        "id": "W10e7ALpGWK6",
        "colab_type": "code",
        "colab": {
          "base_uri": "https://localhost:8080/",
          "height": 235
        },
        "outputId": "55a4ba16-1b67-4764-bb90-731a9e8ee17f"
      },
      "source": [
        "cols=[\"locality\",\"cuisines\"]\n",
        "df1=df1.groupby(cols).sum()\n",
        "df1.head()"
      ],
      "execution_count": 13,
      "outputs": [
        {
          "output_type": "execute_result",
          "data": {
            "text/html": [
              "<div>\n",
              "<style scoped>\n",
              "    .dataframe tbody tr th:only-of-type {\n",
              "        vertical-align: middle;\n",
              "    }\n",
              "\n",
              "    .dataframe tbody tr th {\n",
              "        vertical-align: top;\n",
              "    }\n",
              "\n",
              "    .dataframe thead th {\n",
              "        text-align: right;\n",
              "    }\n",
              "</style>\n",
              "<table border=\"1\" class=\"dataframe\">\n",
              "  <thead>\n",
              "    <tr style=\"text-align: right;\">\n",
              "      <th></th>\n",
              "      <th></th>\n",
              "      <th>No Of Res</th>\n",
              "      <th>votes</th>\n",
              "    </tr>\n",
              "    <tr>\n",
              "      <th>locality</th>\n",
              "      <th>cuisines</th>\n",
              "      <th></th>\n",
              "      <th></th>\n",
              "    </tr>\n",
              "  </thead>\n",
              "  <tbody>\n",
              "    <tr>\n",
              "      <th rowspan=\"4\" valign=\"top\">Adchini</th>\n",
              "      <th>Chettinad</th>\n",
              "      <td>1</td>\n",
              "      <td>178</td>\n",
              "    </tr>\n",
              "    <tr>\n",
              "      <th>French</th>\n",
              "      <td>1</td>\n",
              "      <td>178</td>\n",
              "    </tr>\n",
              "    <tr>\n",
              "      <th>South Indian</th>\n",
              "      <td>1</td>\n",
              "      <td>178</td>\n",
              "    </tr>\n",
              "    <tr>\n",
              "      <th>Tamil</th>\n",
              "      <td>1</td>\n",
              "      <td>178</td>\n",
              "    </tr>\n",
              "    <tr>\n",
              "      <th>Aerocity</th>\n",
              "      <th>Asian</th>\n",
              "      <td>1</td>\n",
              "      <td>459</td>\n",
              "    </tr>\n",
              "  </tbody>\n",
              "</table>\n",
              "</div>"
            ],
            "text/plain": [
              "                       No Of Res  votes\n",
              "locality cuisines                      \n",
              "Adchini  Chettinad             1    178\n",
              "         French                1    178\n",
              "         South Indian          1    178\n",
              "         Tamil                 1    178\n",
              "Aerocity Asian                 1    459"
            ]
          },
          "metadata": {
            "tags": []
          },
          "execution_count": 13
        }
      ]
    },
    {
      "cell_type": "code",
      "metadata": {
        "id": "EuavRzWIGiSn",
        "colab_type": "code",
        "colab": {
          "base_uri": "https://localhost:8080/",
          "height": 279
        },
        "outputId": "80e3c8cc-3d7b-498b-d006-fc3f9d1f3835"
      },
      "source": [
        "plt.scatter(x=df1[\"votes\"],y=df1[\"No Of Res\"])\n",
        "plt.xlabel(\"Votes\")\n",
        "plt.ylabel(\"No Of Restaurants\")\n",
        "plt.show()"
      ],
      "execution_count": 14,
      "outputs": [
        {
          "output_type": "display_data",
          "data": {
            "image/png": "[encoded data removed]",
            "text/plain": [
              "<Figure size 432x288 with 1 Axes>"
            ]
          },
          "metadata": {
            "tags": [],
            "needs_background": "light"
          }
        }
      ]
    },
    {
      "cell_type": "markdown",
      "metadata": {
        "id": "kKKmSodTE5kR",
        "colab_type": "text"
      },
      "source": [
        "#Code to find the best value of K"
      ]
    },
    {
      "cell_type": "code",
      "metadata": {
        "id": "Ac8vIxE04Ow0",
        "colab_type": "code",
        "colab": {
          "base_uri": "https://localhost:8080/",
          "height": 453
        },
        "outputId": "9e6fd6cf-ec37-4cba-fd7e-660c9244a528"
      },
      "source": [
        "error_cost=[]\n",
        "cols=[\"No Of Res\",\"votes\"]\n",
        "for i in range(3, 11):\n",
        "  KM = KMeans(n_clusters=i, max_iter=100)\n",
        "  try:\n",
        "    KM.fit(df1[cols])\n",
        "\n",
        "  except ValueError:\n",
        "    print('Error on line', i)\n",
        "\n",
        "  # calculate squared error for the clustered points\n",
        "  error_cost.append(KM.inertia_ / 100)\n",
        "\n",
        "# plot the K values against the squared error cost\n",
        "plt.figure(figsize=(13,7))\n",
        "plt.plot(range(3,11), error_cost, color='r', linewidth=3)\n",
        "plt.xlabel('Number of k clusters')\n",
        "plt.ylabel('Squared Error (Cost)')\n",
        "plt.grid(color='white', linestyle='-', linewidth=2)\n",
        "\n",
        "plt.show()"
      ],
      "execution_count": 15,
      "outputs": [
        {
          "output_type": "display_data",
          "data": {
            "image/png": "[encoded data removed]",
            "text/plain": [
              "<Figure size 936x504 with 1 Axes>"
            ]
          },
          "metadata": {
            "tags": [],
            "needs_background": "light"
          }
        }
      ]
    },
    {
      "cell_type": "markdown",
      "metadata": {
        "id": "Tb3A5M1nFBIN",
        "colab_type": "text"
      },
      "source": [
        "## As the best value came out to be 6, We'll be dividing the above data frame into 6 clusters"
      ]
    },
    {
      "cell_type": "code",
      "metadata": {
        "id": "Nu0ixDjvHQcn",
        "colab_type": "code",
        "colab": {
          "base_uri": "https://localhost:8080/",
          "height": 34
        },
        "outputId": "5c9eaae3-51a1-4ac2-ec68-dee0771a4c4f"
      },
      "source": [
        "# set number of clusters\n",
        "kclusters = 6\n",
        "cols=[\"No Of Res\",\"votes\"]\n",
        "# run k-means clustering\n",
        "kmeans = KMeans(n_clusters=kclusters, random_state=0).fit(df1[cols])\n",
        "\n",
        "# check cluster labels generated for each row in the dataframe\n",
        "kmeans.labels_[0:10]"
      ],
      "execution_count": 16,
      "outputs": [
        {
          "output_type": "execute_result",
          "data": {
            "text/plain": [
              "array([2, 2, 2, 2, 2, 2, 2, 2, 2, 2], dtype=int32)"
            ]
          },
          "metadata": {
            "tags": []
          },
          "execution_count": 16
        }
      ]
    },
    {
      "cell_type": "code",
      "metadata": {
        "id": "Ff5wi3r9IF33",
        "colab_type": "code",
        "colab": {
          "base_uri": "https://localhost:8080/",
          "height": 279
        },
        "outputId": "220fb012-6c3b-41c7-ddf1-0f563a84b0f8"
      },
      "source": [
        "plt.scatter(x=df1[\"votes\"],y=df1[\"No Of Res\"],c=kmeans.labels_)\n",
        "plt.xlabel(\"Votes\")\n",
        "plt.ylabel(\"No Of Restaurants\")\n",
        "plt.show()"
      ],
      "execution_count": 17,
      "outputs": [
        {
          "output_type": "display_data",
          "data": {
            "image/png": "[encoded data removed]",
            "text/plain": [
              "<Figure size 432x288 with 1 Axes>"
            ]
          },
          "metadata": {
            "tags": [],
            "needs_background": "light"
          }
        }
      ]
    },
    {
      "cell_type": "code",
      "metadata": {
        "id": "O7qRlHXCJExg",
        "colab_type": "code",
        "colab": {}
      },
      "source": [
        "df1[\"Cluster Label\"]=kmeans.labels_"
      ],
      "execution_count": 18,
      "outputs": []
    },
    {
      "cell_type": "code",
      "metadata": {
        "id": "HAebgwaYIugJ",
        "colab_type": "code",
        "colab": {
          "base_uri": "https://localhost:8080/",
          "height": 111
        },
        "outputId": "94cf454b-4b1c-4425-c284-53ffbb0392d0"
      },
      "source": [
        "df1.loc[df1['Cluster Label'] == 1]"
      ],
      "execution_count": 22,
      "outputs": [
        {
          "output_type": "execute_result",
          "data": {
            "text/html": [
              "<div>\n",
              "<style scoped>\n",
              "    .dataframe tbody tr th:only-of-type {\n",
              "        vertical-align: middle;\n",
              "    }\n",
              "\n",
              "    .dataframe tbody tr th {\n",
              "        vertical-align: top;\n",
              "    }\n",
              "\n",
              "    .dataframe thead th {\n",
              "        text-align: right;\n",
              "    }\n",
              "</style>\n",
              "<table border=\"1\" class=\"dataframe\">\n",
              "  <thead>\n",
              "    <tr style=\"text-align: right;\">\n",
              "      <th></th>\n",
              "      <th></th>\n",
              "      <th>No Of Res</th>\n",
              "      <th>votes</th>\n",
              "      <th>Cluster Label</th>\n",
              "    </tr>\n",
              "    <tr>\n",
              "      <th>locality</th>\n",
              "      <th>cuisines</th>\n",
              "      <th></th>\n",
              "      <th></th>\n",
              "      <th></th>\n",
              "    </tr>\n",
              "  </thead>\n",
              "  <tbody>\n",
              "    <tr>\n",
              "      <th>Karkardooma</th>\n",
              "      <th>North Indian</th>\n",
              "      <td>3</td>\n",
              "      <td>99563</td>\n",
              "      <td>1</td>\n",
              "    </tr>\n",
              "  </tbody>\n",
              "</table>\n",
              "</div>"
            ],
            "text/plain": [
              "                          No Of Res  votes  Cluster Label\n",
              "locality    cuisines                                     \n",
              "Karkardooma North Indian          3  99563              1"
            ]
          },
          "metadata": {
            "tags": []
          },
          "execution_count": 22
        }
      ]
    },
    {
      "cell_type": "code",
      "metadata": {
        "id": "mO25QSz7JCZ8",
        "colab_type": "code",
        "colab": {
          "base_uri": "https://localhost:8080/",
          "height": 204
        },
        "outputId": "7620294b-4e25-4b28-9b4e-779c3c152344"
      },
      "source": [
        "df1.loc[df1['Cluster Label'] ==3]"
      ],
      "execution_count": 31,
      "outputs": [
        {
          "output_type": "execute_result",
          "data": {
            "text/html": [
              "<div>\n",
              "<style scoped>\n",
              "    .dataframe tbody tr th:only-of-type {\n",
              "        vertical-align: middle;\n",
              "    }\n",
              "\n",
              "    .dataframe tbody tr th {\n",
              "        vertical-align: top;\n",
              "    }\n",
              "\n",
              "    .dataframe thead th {\n",
              "        text-align: right;\n",
              "    }\n",
              "</style>\n",
              "<table border=\"1\" class=\"dataframe\">\n",
              "  <thead>\n",
              "    <tr style=\"text-align: right;\">\n",
              "      <th></th>\n",
              "      <th></th>\n",
              "      <th>No Of Res</th>\n",
              "      <th>votes</th>\n",
              "      <th>Cluster Label</th>\n",
              "    </tr>\n",
              "    <tr>\n",
              "      <th>locality</th>\n",
              "      <th>cuisines</th>\n",
              "      <th></th>\n",
              "      <th></th>\n",
              "      <th></th>\n",
              "    </tr>\n",
              "  </thead>\n",
              "  <tbody>\n",
              "    <tr>\n",
              "      <th>Ashok Vihar Phase 2</th>\n",
              "      <th>North Indian</th>\n",
              "      <td>5</td>\n",
              "      <td>59334</td>\n",
              "      <td>3</td>\n",
              "    </tr>\n",
              "    <tr>\n",
              "      <th>IP Extension</th>\n",
              "      <th>North Indian</th>\n",
              "      <td>4</td>\n",
              "      <td>58012</td>\n",
              "      <td>3</td>\n",
              "    </tr>\n",
              "    <tr>\n",
              "      <th>Paschim Vihar</th>\n",
              "      <th>North Indian</th>\n",
              "      <td>7</td>\n",
              "      <td>50717</td>\n",
              "      <td>3</td>\n",
              "    </tr>\n",
              "    <tr>\n",
              "      <th>Shahdara</th>\n",
              "      <th>North Indian</th>\n",
              "      <td>10</td>\n",
              "      <td>55461</td>\n",
              "      <td>3</td>\n",
              "    </tr>\n",
              "  </tbody>\n",
              "</table>\n",
              "</div>"
            ],
            "text/plain": [
              "                                  No Of Res  votes  Cluster Label\n",
              "locality            cuisines                                     \n",
              "Ashok Vihar Phase 2 North Indian          5  59334              3\n",
              "IP Extension        North Indian          4  58012              3\n",
              "Paschim Vihar       North Indian          7  50717              3\n",
              "Shahdara            North Indian         10  55461              3"
            ]
          },
          "metadata": {
            "tags": []
          },
          "execution_count": 31
        }
      ]
    },
    {
      "cell_type": "code",
      "metadata": {
        "id": "ci35BuXFB74O",
        "colab_type": "code",
        "colab": {}
      },
      "source": [
        ""
      ],
      "execution_count": 21,
      "outputs": []
    }
  ]
}